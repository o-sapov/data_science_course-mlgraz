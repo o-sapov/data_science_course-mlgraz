{
 "cells": [
  {
   "cell_type": "markdown",
   "metadata": {
    "_cell_guid": "b1076dfc-b9ad-4769-8c92-a6c4dae69d19",
    "_uuid": "8f2839f25d086af736a60e9eeb907d3b93b6e0e5"
   },
   "source": [
    "# Bank marketing campaigns dataset analysis"
   ]
  },
  {
   "cell_type": "markdown",
   "metadata": {},
   "source": [
    "### Abstract\n",
    "This is dataset that describe Portugal bank marketing campaigns results. \n",
    "Conducted campaigns were based mostly on direct phone calls, offering  bank's clients to place a term deposit. \n",
    "If after all marking afforts client had agreed to place deposit - target variable marked 'yes', otherwise 'no'.\n",
    "\n",
    "Sourse of the data\n",
    "https://archive.ics.uci.edu/ml/datasets/bank+marketing\n",
    "\n",
    "Dataset description\n",
    "https://www.kaggle.com/volodymyrgavrysh/bank-marketing-campaigns-data-set-description\n",
    "\n",
    "**Citation Request:**\n",
    "> This dataset is public available for research. The details are described in S. Moro, P. Cortez and P. Rita. \"A Data-Driven Approach to Predict the Success of Bank Telemarketing.\" Decision Support Systems, Elsevier, 62:22-31, June 2014 <\n",
    "\n",
    "### Task\n",
    "\n",
    "* predicting the future results of marketing companies based on available statistics and, accordingly, formulating recommendations for such companies in the future.\n",
    "* building a profile of a consumer of banking services (deposits).\n",
    "\n",
    "### Approach\n",
    "\n",
    "The following steps will be performed to complete the task:\n",
    "1. Loading data and holding a short Expanatory Data Analysis (EDA).\n",
    "2. Formulating hypotheses regarding individual factors (features) for conducting correct data clearining and data preparation for modeling.\n",
    "3. The choice of metrics result.\n",
    "4. Building a pipline for Cross Validation and Grid Search procedures (search for optimal parameters of the model)\n",
    "5. The choice of the most effective model **, build learninig curve rate\n",
    "6. Conclusions and recomendations.\n",
    "\n",
    " > ****** we intentionally use most basic machine learning models to increase the level of interprebility of the solution\n"
   ]
  },
  {
   "cell_type": "markdown",
   "metadata": {},
   "source": [
    "### Feature description\n",
    "**Bank client data:**\n",
    "* 1 - age (numeric)\n",
    "* 2 - job : type of job (categorical: 'admin.','blue-collar','entrepreneur','housemaid','management','retired','self-employed','services','student','technician','unemployed','unknown')\n",
    "* 3 - marital : marital status (categorical: 'divorced','married','single','unknown'; note: 'divorced' means divorced or widowed)\n",
    "* 4 - education (categorical: basic.4y','basic.6y','basic.9y','high.school','illiterate','professional.course','university.degree','unknown')\n",
    "* 5 - default: has credit in default? (categorical: 'no','yes','unknown')\n",
    "* 6 - housing: has housing loan? (categorical: 'no','yes','unknown')\n",
    "* 7 - loan: has personal loan? (categorical: 'no','yes','unknown')\n",
    "\n",
    "***Related with the last contact of the current campaign:***\n",
    "* 8 - contact: contact communication type (categorical: 'cellular','telephone')\n",
    "* 9 - month: last contact month of year (categorical: 'jan', 'feb', 'mar', ..., 'nov', 'dec')\n",
    "* 10 - day_of_week: last contact day of the week (categorical: 'mon','tue','wed','thu','fri')\n",
    "* 11 - duration: last contact duration, in seconds (numeric). Important note: this attribute highly affects the output target (e.g., if duration=0 then y='no'). Yet, the duration is not known before a call is performed. Also, after the end of the call y is obviously known. Thus, this input should only be included for benchmark purposes and should be discarded if the intention is to have a realistic predictive model.\n",
    "\n",
    "***other attributes:***\n",
    "* 12 - campaign: number of contacts performed during this campaign and for this client (numeric, includes last contact)\n",
    "* 13 - pdays: number of days that passed by after the client was last contacted from a previous campaign (numeric; 999 means client was not previously contacted)\n",
    "* 14 - previous: number of contacts performed before this campaign and for this client (numeric)\n",
    "* 15 - poutcome: outcome of the previous marketing campaign (categorical: 'failure','nonexistent','success')\n",
    "\n",
    "***social and economic context attributes***\n",
    "* 16 - emp.var.rate: employment variation rate - quarterly indicator (numeric)\n",
    "* 17 - cons.price.idx: consumer price index - monthly indicator (numeric)\n",
    "* 18 - cons.conf.idx: consumer confidence index - monthly indicator (numeric)\n",
    "* 19 - euribor3m: euribor 3 month rate - daily indicator (numeric)\n",
    "* 20 - nr.employed: number of employees - quarterly indicator (numeric)\n",
    "\n",
    "***Output variable (desired target):***\n",
    "* 21 - y - has the client subscribed a term deposit? (binary: 'yes','no')"
   ]
  },
  {
   "cell_type": "code",
   "execution_count": 3,
   "metadata": {
    "_cell_guid": "",
    "_uuid": ""
   },
   "outputs": [
    {
     "data": {
      "text/plain": [
       "' Citing libraries \\nscikit-learn\\nauthors={Pedregosa, F. and Varoquaux, G. and Gramfort, A. and Michel, V.\\n         and Thirion, B. and Grisel, O. and Blondel, M. and Prettenhofer, P.\\n         and Weiss, R. and Dubourg, V. and Vanderplas, J. and Passos, A. and\\n         Cournapeau, D. and Brucher, M. and Perrot, M. and Duchesnay, E.}\\n\\n category Encoders\\n author = Will McGinnis\\n \\n matplotlib\\n author = Hunter, J. D.\\n \\n seaborn\\n author = Michael Waskom\\n \\n \\n'"
      ]
     },
     "execution_count": 3,
     "metadata": {},
     "output_type": "execute_result"
    }
   ],
   "source": [
    "# Import libraries \n",
    "import pandas as pd\n",
    "import numpy as np\n",
    "import time\n",
    "import gc\n",
    "import warnings\n",
    "warnings.filterwarnings(\"ignore\")\n",
    "\n",
    "from sklearn.model_selection import train_test_split, GridSearchCV, StratifiedKFold\n",
    "from sklearn.ensemble import RandomForestClassifier, BaggingClassifier\n",
    "from sklearn.tree import DecisionTreeClassifier\n",
    "from sklearn.linear_model import LogisticRegression\n",
    "from sklearn.metrics import roc_curve, roc_auc_score\n",
    "from sklearn.neighbors import KNeighborsClassifier\n",
    "from sklearn.pipeline import Pipeline\n",
    "from sklearn.linear_model import SGDClassifier\n",
    "\n",
    "#import category_encoders as ce\n",
    "\n",
    "import matplotlib.pyplot as plt\n",
    "import seaborn as sns\n",
    "import plotly.graph_objs as go\n",
    "from tqdm import tqdm\n",
    "\n",
    "''' Citing libraries \n",
    "scikit-learn\n",
    "authors={Pedregosa, F. and Varoquaux, G. and Gramfort, A. and Michel, V.\n",
    "         and Thirion, B. and Grisel, O. and Blondel, M. and Prettenhofer, P.\n",
    "         and Weiss, R. and Dubourg, V. and Vanderplas, J. and Passos, A. and\n",
    "         Cournapeau, D. and Brucher, M. and Perrot, M. and Duchesnay, E.}\n",
    "\n",
    " category Encoders\n",
    " author = Will McGinnis\n",
    " \n",
    " matplotlib\n",
    " author = Hunter, J. D.\n",
    " \n",
    " seaborn\n",
    " author = Michael Waskom\n",
    " \n",
    " \n",
    "'''"
   ]
  },
  {
   "cell_type": "markdown",
   "metadata": {},
   "source": [
    "### 1. Loading data and holding a short Expanatory Data Analysis"
   ]
  },
  {
   "cell_type": "code",
   "execution_count": 5,
   "metadata": {},
   "outputs": [
    {
     "data": {
      "text/html": [
       "<div>\n",
       "<style scoped>\n",
       "    .dataframe tbody tr th:only-of-type {\n",
       "        vertical-align: middle;\n",
       "    }\n",
       "\n",
       "    .dataframe tbody tr th {\n",
       "        vertical-align: top;\n",
       "    }\n",
       "\n",
       "    .dataframe thead th {\n",
       "        text-align: right;\n",
       "    }\n",
       "</style>\n",
       "<table border=\"1\" class=\"dataframe\">\n",
       "  <thead>\n",
       "    <tr style=\"text-align: right;\">\n",
       "      <th></th>\n",
       "      <th>age</th>\n",
       "      <th>job</th>\n",
       "      <th>marital</th>\n",
       "      <th>education</th>\n",
       "      <th>default</th>\n",
       "      <th>housing</th>\n",
       "      <th>loan</th>\n",
       "      <th>contact</th>\n",
       "      <th>month</th>\n",
       "      <th>day_of_week</th>\n",
       "      <th>...</th>\n",
       "      <th>campaign</th>\n",
       "      <th>pdays</th>\n",
       "      <th>previous</th>\n",
       "      <th>poutcome</th>\n",
       "      <th>emp.var.rate</th>\n",
       "      <th>cons.price.idx</th>\n",
       "      <th>cons.conf.idx</th>\n",
       "      <th>euribor3m</th>\n",
       "      <th>nr.employed</th>\n",
       "      <th>y</th>\n",
       "    </tr>\n",
       "  </thead>\n",
       "  <tbody>\n",
       "    <tr>\n",
       "      <th>0</th>\n",
       "      <td>56</td>\n",
       "      <td>housemaid</td>\n",
       "      <td>married</td>\n",
       "      <td>basic.4y</td>\n",
       "      <td>no</td>\n",
       "      <td>no</td>\n",
       "      <td>no</td>\n",
       "      <td>telephone</td>\n",
       "      <td>may</td>\n",
       "      <td>mon</td>\n",
       "      <td>...</td>\n",
       "      <td>1</td>\n",
       "      <td>999</td>\n",
       "      <td>0</td>\n",
       "      <td>nonexistent</td>\n",
       "      <td>1.1</td>\n",
       "      <td>93.994</td>\n",
       "      <td>-36.4</td>\n",
       "      <td>4.857</td>\n",
       "      <td>5191.0</td>\n",
       "      <td>no</td>\n",
       "    </tr>\n",
       "    <tr>\n",
       "      <th>1</th>\n",
       "      <td>57</td>\n",
       "      <td>services</td>\n",
       "      <td>married</td>\n",
       "      <td>high.school</td>\n",
       "      <td>unknown</td>\n",
       "      <td>no</td>\n",
       "      <td>no</td>\n",
       "      <td>telephone</td>\n",
       "      <td>may</td>\n",
       "      <td>mon</td>\n",
       "      <td>...</td>\n",
       "      <td>1</td>\n",
       "      <td>999</td>\n",
       "      <td>0</td>\n",
       "      <td>nonexistent</td>\n",
       "      <td>1.1</td>\n",
       "      <td>93.994</td>\n",
       "      <td>-36.4</td>\n",
       "      <td>4.857</td>\n",
       "      <td>5191.0</td>\n",
       "      <td>no</td>\n",
       "    </tr>\n",
       "    <tr>\n",
       "      <th>2</th>\n",
       "      <td>37</td>\n",
       "      <td>services</td>\n",
       "      <td>married</td>\n",
       "      <td>high.school</td>\n",
       "      <td>no</td>\n",
       "      <td>yes</td>\n",
       "      <td>no</td>\n",
       "      <td>telephone</td>\n",
       "      <td>may</td>\n",
       "      <td>mon</td>\n",
       "      <td>...</td>\n",
       "      <td>1</td>\n",
       "      <td>999</td>\n",
       "      <td>0</td>\n",
       "      <td>nonexistent</td>\n",
       "      <td>1.1</td>\n",
       "      <td>93.994</td>\n",
       "      <td>-36.4</td>\n",
       "      <td>4.857</td>\n",
       "      <td>5191.0</td>\n",
       "      <td>no</td>\n",
       "    </tr>\n",
       "  </tbody>\n",
       "</table>\n",
       "<p>3 rows × 21 columns</p>\n",
       "</div>"
      ],
      "text/plain": [
       "   age        job  marital    education  default housing loan    contact  \\\n",
       "0   56  housemaid  married     basic.4y       no      no   no  telephone   \n",
       "1   57   services  married  high.school  unknown      no   no  telephone   \n",
       "2   37   services  married  high.school       no     yes   no  telephone   \n",
       "\n",
       "  month day_of_week  ...  campaign  pdays  previous     poutcome emp.var.rate  \\\n",
       "0   may         mon  ...         1    999         0  nonexistent          1.1   \n",
       "1   may         mon  ...         1    999         0  nonexistent          1.1   \n",
       "2   may         mon  ...         1    999         0  nonexistent          1.1   \n",
       "\n",
       "   cons.price.idx  cons.conf.idx  euribor3m  nr.employed   y  \n",
       "0          93.994          -36.4      4.857       5191.0  no  \n",
       "1          93.994          -36.4      4.857       5191.0  no  \n",
       "2          93.994          -36.4      4.857       5191.0  no  \n",
       "\n",
       "[3 rows x 21 columns]"
      ]
     },
     "metadata": {},
     "output_type": "display_data"
    },
    {
     "data": {
      "text/plain": [
       "'There is 41188 observations with 21 features'"
      ]
     },
     "metadata": {},
     "output_type": "display_data"
    }
   ],
   "source": [
    "# Read data\n",
    "data = pd.read_csv('../data/raw/bank-additional-full.csv', sep=';')\n",
    "display(data.head(3))\n",
    "display('There is {} observations with {} features'.format(data.shape[0], data.shape[1]))"
   ]
  },
  {
   "cell_type": "markdown",
   "metadata": {},
   "source": [
    "### 1. Explore categorical features (EDA)"
   ]
  },
  {
   "cell_type": "code",
   "execution_count": 11,
   "metadata": {},
   "outputs": [
    {
     "data": {
      "text/plain": [
       "admin.           9070\n",
       "blue-collar      8616\n",
       "technician       6013\n",
       "services         3646\n",
       "management       2596\n",
       "entrepreneur     1332\n",
       "retired          1286\n",
       "self-employed    1272\n",
       "housemaid         954\n",
       "unemployed        870\n",
       "student           600\n",
       "unknown           293\n",
       "Name: job, dtype: int64"
      ]
     },
     "execution_count": 11,
     "metadata": {},
     "output_type": "execute_result"
    }
   ],
   "source": [
    "data[data['y'] == 'no']['job'].value_counts()"
   ]
  },
  {
   "cell_type": "code",
   "execution_count": 12,
   "metadata": {},
   "outputs": [],
   "source": [
    "# Build a function to show categorical values disribution\n",
    "def plot_bar(column):\n",
    "    # temp df \n",
    "    temp_1 = pd.DataFrame()\n",
    "    # count categorical values\n",
    "    temp_1['No_deposit'] = data[data['y'] == 'no'][column].value_counts()\n",
    "    temp_1['Yes_deposit'] = data[data['y'] == 'yes'][column].value_counts()\n",
    "    temp_1.plot(kind='bar')\n",
    "    plt.xlabel(f'{column}')\n",
    "    plt.ylabel('Number of clients')\n",
    "    plt.title('Distribution of {} and deposit'.format(column))\n",
    "    plt.show();"
   ]
  },
  {
   "cell_type": "code",
   "execution_count": 13,
   "metadata": {},
   "outputs": [
    {
     "data": {
      "image/png": "[encoded data removed]",
      "text/plain": [
       "<Figure size 432x288 with 1 Axes>"
      ]
     },
     "metadata": {
      "needs_background": "light"
     },
     "output_type": "display_data"
    },
    {
     "data": {
      "image/png": "[encoded data removed]",
      "text/plain": [
       "<Figure size 432x288 with 1 Axes>"
      ]
     },
     "metadata": {
      "needs_background": "light"
     },
     "output_type": "display_data"
    },
    {
     "data": {
      "image/png": "[encoded data removed]",
      "text/plain": [
       "<Figure size 432x288 with 1 Axes>"
      ]
     },
     "metadata": {
      "needs_background": "light"
     },
     "output_type": "display_data"
    },
    {
     "data": {
      "image/png": "[encoded data removed]",
      "text/plain": [
       "<Figure size 432x288 with 1 Axes>"
      ]
     },
     "metadata": {
      "needs_background": "light"
     },
     "output_type": "display_data"
    },
    {
     "data": {
      "image/png": "[encoded data removed]",
      "text/plain": [
       "<Figure size 432x288 with 1 Axes>"
      ]
     },
     "metadata": {
      "needs_background": "light"
     },
     "output_type": "display_data"
    },
    {
     "data": {
      "image/png": "[encoded data removed]",
      "text/plain": [
       "<Figure size 432x288 with 1 Axes>"
      ]
     },
     "metadata": {
      "needs_background": "light"
     },
     "output_type": "display_data"
    },
    {
     "data": {
      "text/plain": [
       "(None, None, None, None, None, None)"
      ]
     },
     "execution_count": 13,
     "metadata": {},
     "output_type": "execute_result"
    }
   ],
   "source": [
    "plot_bar('job'), plot_bar('marital'), plot_bar('education'), plot_bar('contact'), plot_bar('loan'), plot_bar('housing')"
   ]
  },
  {
   "cell_type": "markdown",
   "metadata": {},
   "source": [
    "**Primary analysis of several categorical features reveals:**\n",
    "1. Administrative staff and technical specialists opened the deposit most of all. In relative terms, a high proportion of pensioners and students might be mentioned as well.\n",
    "2. Although in absolute terms married consumers more often agreed to the service, in relative terms the single was responded better.\n",
    "3. Best communication channel is secullar.\n",
    "4. The difference is evident between consumers who already use the services of banks and received a loan.\n",
    "5. Home ownership does not greatly affect marketing company performance."
   ]
  },
  {
   "cell_type": "markdown",
   "metadata": {},
   "source": [
    "### Explore numerical features (EDA)"
   ]
  },
  {
   "cell_type": "code",
   "execution_count": null,
   "metadata": {},
   "outputs": [],
   "source": [
    "# Convert target variable into numeric\n",
    "data.y = data.y.map({'no':0, 'yes':1}).astype('uint8')"
   ]
  },
  {
   "cell_type": "code",
   "execution_count": null,
   "metadata": {},
   "outputs": [],
   "source": [
    "# Build correlation matrix\n",
    "corr = data.corr()\n",
    "corr.style.background_gradient(cmap='PuBu')"
   ]
  },
  {
   "cell_type": "markdown",
   "metadata": {},
   "source": [
    "** From correlation matrix we observe next:** \n",
    "* most correlated with target feature is call duration. So we need to transform it to reduce the influence\n",
    "* higly correlated features (employment rate, consumer confidence index, consumer price index) may describe clients state from different social-economic angles. Their variance might support model capacity for generalization."
   ]
  },
  {
   "cell_type": "markdown",
   "metadata": {},
   "source": [
    "### 2. Formulating hypotheses regarding individual factors (features) for conducting correct data clearining and data preparation for modeling\n",
    "\n",
    "** Data cleaning stategy **\n",
    "\n",
    "Since categorical variables dominate in dataset and the number of weakly correlated numeric variables is not more than 4, we need to transform categorical variables to increase the model's ability to generalize data. (we can not drop them)\n",
    "\n",
    "Particular attention should be paid to the Duration Feature and categories that can be treated as binary. It suggests using binning and simple transformation accordingly (0 and 1)\n",
    "\n",
    "For categories of more than 3 types of possible option (marital and education) it is proposed to use the encode targeting - it will allow correctly relate the values to the target variable and use indicated categories in numerical form.\n",
    "\n",
    "In some cases, rescaling is proposed to normalize the data.\n"
   ]
  },
  {
   "cell_type": "code",
   "execution_count": null,
   "metadata": {},
   "outputs": [],
   "source": [
    "# Replacing values with binary ()\n",
    "data.contact = data.contact.map({'cellular': 1, 'telephone': 0}).astype('uint8') \n",
    "data.loan = data.loan.map({'yes': 1, 'unknown': 0, 'no' : 0}).astype('uint8')\n",
    "data.housing = data.housing.map({'yes': 1, 'unknown': 0, 'no' : 0}).astype('uint8')\n",
    "data.default = data.default.map({'no': 1, 'unknown': 0, 'yes': 0}).astype('uint8')\n",
    "data.pdays = data.pdays.replace(999, 0) # replace with 0 if not contact \n",
    "data.previous = data.previous.apply(lambda x: 1 if x > 0 else 0).astype('uint8') # binary has contact or not\n",
    "\n",
    "# binary if were was an outcome of marketing campane\n",
    "data.poutcome = data.poutcome.map({'nonexistent':0, 'failure':0, 'success':1}).astype('uint8') \n",
    "\n",
    "# change the range of Var Rate\n",
    "data['emp.var.rate'] = data['emp.var.rate'].apply(lambda x: x*-0.0001 if x > 0 else x*1)\n",
    "data['emp.var.rate'] = data['emp.var.rate'] * -1\n",
    "data['emp.var.rate'] = data['emp.var.rate'].apply(lambda x: -np.log(x) if x < 1 else np.log(x)).astype('uint8')\n",
    "\n",
    "# Multiply consumer index \n",
    "data['cons.price.idx'] = (data['cons.price.idx'] * 10).astype('uint8')\n",
    "\n",
    "# change the sign (we want all be positive values)\n",
    "data['cons.conf.idx'] = data['cons.conf.idx'] * -1\n",
    "\n",
    "# re-scale variables\n",
    "data['nr.employed'] = np.log2(data['nr.employed']).astype('uint8')\n",
    "data['cons.price.idx'] = np.log2(data['cons.price.idx']).astype('uint8')\n",
    "data['cons.conf.idx'] = np.log2(data['cons.conf.idx']).astype('uint8')\n",
    "data.age = np.log(data.age)\n",
    "\n",
    "# less space\n",
    "data.euribor3m = data.euribor3m.astype('uint8')\n",
    "data.campaign = data.campaign.astype('uint8')\n",
    "data.pdays = data.pdays.astype('uint8')\n",
    "\n",
    "# fucntion to One Hot Encoding\n",
    "def encode(data, col):\n",
    "    return pd.concat([data, pd.get_dummies(col, prefix=col.name)], axis=1)\n",
    "\n",
    "# One Hot encoding of 3 variable \n",
    "data = encode(data, data.job)\n",
    "data = encode(data, data.month)\n",
    "data = encode(data, data.day_of_week)\n",
    "\n",
    "# Drop tranfromed features\n",
    "data.drop(['job', 'month', 'day_of_week'], axis=1, inplace=True)"
   ]
  },
  {
   "cell_type": "code",
   "execution_count": null,
   "metadata": {},
   "outputs": [],
   "source": [
    "'''Drop the dublicates'''\n",
    "data.drop_duplicates(inplace=True) "
   ]
  },
  {
   "cell_type": "code",
   "execution_count": null,
   "metadata": {},
   "outputs": [],
   "source": [
    "'''Convert Duration Call into 5 category'''\n",
    "def duration(data):\n",
    "    data.loc[data['duration'] <= 102, 'duration'] = 1\n",
    "    data.loc[(data['duration'] > 102) & (data['duration'] <= 180)  , 'duration'] = 2\n",
    "    data.loc[(data['duration'] > 180) & (data['duration'] <= 319)  , 'duration'] = 3\n",
    "    data.loc[(data['duration'] > 319) & (data['duration'] <= 645), 'duration'] = 4\n",
    "    data.loc[data['duration']  > 645, 'duration'] = 5\n",
    "    return data\n",
    "duration(data);"
   ]
  },
  {
   "cell_type": "code",
   "execution_count": null,
   "metadata": {},
   "outputs": [],
   "source": [
    "''' Target encoding for two categorical feature '''\n",
    "# save target variable before transformation\n",
    "y = data.y\n",
    "# Create target encoder object and transoform two value\n",
    "target_encode = ce.target_encoder.TargetEncoder(cols=['marital', 'education']).fit(data, y)\n",
    "numeric_dataset = target_encode.transform(data)\n",
    "# drop target variable\n",
    "numeric_dataset.drop('y', axis=1, inplace=True)"
   ]
  },
  {
   "cell_type": "code",
   "execution_count": null,
   "metadata": {},
   "outputs": [],
   "source": [
    "'''Check numerical data set'''\n",
    "display(numeric_dataset.head(3), numeric_dataset.shape, y.shape)\n",
    "display('We observe 41175 rows and 44 numerical features after transformation. Target variable shape is (41175, 0 ) as expected')"
   ]
  },
  {
   "cell_type": "markdown",
   "metadata": {},
   "source": [
    "### 3. The choice of metrics result\n",
    "\n",
    "It is proposed to use ROC_AUC metrics for evaluating different models with additional monitoring of the accuracy metric dynamic.\n",
    "\n",
    "This approach will allow us to explore models from different angles."
   ]
  },
  {
   "cell_type": "markdown",
   "metadata": {},
   "source": [
    "### 4. Building a pipline for Cross Validation and Grid Search procedures (search for optimal parameters of the model)"
   ]
  },
  {
   "cell_type": "code",
   "execution_count": null,
   "metadata": {},
   "outputs": [],
   "source": [
    "''' Split data on train and test'''\n",
    "# set global random state\n",
    "random_state = 11\n",
    "# split data\n",
    "X_train, X_test, y_train, y_test = train_test_split(numeric_dataset, y, test_size=0.2, random_state=random_state)\n",
    "# collect excess data\n",
    "gc.collect()"
   ]
  },
  {
   "cell_type": "code",
   "execution_count": null,
   "metadata": {},
   "outputs": [],
   "source": [
    "display('check the shape of splitted train and test sets', X_train.shape, y_train.shape, X_test.shape, y_test.shape)"
   ]
  },
  {
   "cell_type": "code",
   "execution_count": null,
   "metadata": {},
   "outputs": [],
   "source": [
    "'''Build pipline of classifiers'''\n",
    "# set all CPU\n",
    "n_jobs = -1\n",
    "# LogisticRegression\n",
    "pipe_lr = Pipeline([('lr', LogisticRegression(random_state=random_state, n_jobs=n_jobs, max_iter=500))])\n",
    "# RandomForestClassifier\n",
    "pipe_rf = Pipeline([('rf', RandomForestClassifier(random_state=random_state, oob_score=True, n_jobs=n_jobs))])\n",
    "# KNeighborsClassifier\n",
    "pipe_knn = Pipeline([('knn', KNeighborsClassifier(n_jobs=n_jobs))])\n",
    "# DecisionTreeClassifier\n",
    "pipe_dt = Pipeline([('dt', DecisionTreeClassifier(random_state=random_state, max_features='auto'))])\n",
    "# BaggingClassifier\n",
    "# note we use SGDClassifier as classier inside BaggingClassifier\n",
    "pipe_bag = Pipeline([('bag',BaggingClassifier(base_estimator=SGDClassifier(random_state=random_state, n_jobs=n_jobs, max_iter=1500),\\\n",
    "                                              random_state=random_state,oob_score=True,n_jobs=n_jobs))])\n",
    "# SGDClassifier\n",
    "pipe_sgd = Pipeline([('sgd', SGDClassifier(random_state=random_state, n_jobs=n_jobs, max_iter=1500))])"
   ]
  },
  {
   "cell_type": "code",
   "execution_count": null,
   "metadata": {},
   "outputs": [],
   "source": [
    "'''Set parameters for Grid Search '''\n",
    "# set number \n",
    "cv = StratifiedKFold(shuffle=True, n_splits=5, random_state=random_state)\n",
    "# set for LogisticRegression\n",
    "grid_params_lr = [{\n",
    "                'lr__penalty': ['l2'],\n",
    "                'lr__C': [0.3, 0.6, 0.7],\n",
    "                'lr__solver': ['sag']\n",
    "                }]\n",
    "# set for RandomForestClassifier\n",
    "grid_params_rf = [{\n",
    "                'rf__criterion': ['entropy'],\n",
    "                'rf__min_samples_leaf': [80, 100],\n",
    "                'rf__max_depth': [25, 27],\n",
    "                'rf__min_samples_split': [3, 5],\n",
    "                'rf__n_estimators' : [60, 70]\n",
    "                }]\n",
    "# set for KNeighborsClassifier\n",
    "grid_params_knn = [{'knn__n_neighbors': [16,17,18]}]\n",
    "\n",
    "# set for DecisionTreeClassifier\n",
    "grid_params_dt = [{\n",
    "                'dt__max_depth': [8, 10],\n",
    "                'dt__min_samples_leaf': [1, 3, 5, 7]\n",
    "                  }]\n",
    "# set for BaggingClassifier\n",
    "grid_params_bag = [{'bag__n_estimators': [10, 15, 20]}]\n",
    "\n",
    "# set for SGDClassifier\n",
    "grid_params_sgd = [{\n",
    "                    'sgd__loss': ['log', 'huber'],\n",
    "                    'sgd__learning_rate': ['adaptive'],\n",
    "                    'sgd__eta0': [0.001, 0.01, 0.1],\n",
    "                    'sgd__penalty': ['l1', 'l2', 'elasticnet'], \n",
    "                    'sgd__alpha':[0.1, 1, 5, 10]\n",
    "                    }]"
   ]
  },
  {
   "cell_type": "code",
   "execution_count": null,
   "metadata": {},
   "outputs": [],
   "source": [
    "'''Grid search objects'''\n",
    "# for LogisticRegression\n",
    "gs_lr = GridSearchCV(pipe_lr, param_grid=grid_params_lr,\n",
    "                     scoring='accuracy', cv=cv) \n",
    "# for RandomForestClassifier\n",
    "gs_rf = GridSearchCV(pipe_rf, param_grid=grid_params_rf,\n",
    "                     scoring='accuracy', cv=cv)\n",
    "# for KNeighborsClassifier\n",
    "gs_knn = GridSearchCV(pipe_knn, param_grid=grid_params_knn,\n",
    "                     scoring='accuracy', cv=cv)\n",
    "# for DecisionTreeClassifier\n",
    "gs_dt = GridSearchCV(pipe_dt, param_grid=grid_params_dt,\n",
    "                     scoring='accuracy', cv=cv)\n",
    "# for BaggingClassifier\n",
    "gs_bag = GridSearchCV(pipe_bag, param_grid=grid_params_bag,\n",
    "                     scoring='accuracy', cv=cv)\n",
    "# for SGDClassifier\n",
    "gs_sgd = GridSearchCV(pipe_sgd, param_grid=grid_params_sgd,\n",
    "                     scoring='accuracy', cv=cv)"
   ]
  },
  {
   "cell_type": "code",
   "execution_count": null,
   "metadata": {},
   "outputs": [],
   "source": [
    "# models that we iterate over\n",
    "look_for = [gs_lr, gs_rf, gs_knn, gs_dt, gs_bag, gs_sgd]\n",
    "# dict for later use \n",
    "model_dict = {0:'Logistic_reg', 1:'RandomForest', 2:'Knn', 3:'DesionTree', 4:'Bagging with SGDClassifier', 5:'SGD Class'}"
   ]
  },
  {
   "cell_type": "code",
   "execution_count": null,
   "metadata": {},
   "outputs": [],
   "source": [
    "''' Function to iterate over models and obtain results'''\n",
    "# set empty dicts and list\n",
    "result_acc = {}\n",
    "result_auc = {}\n",
    "models = []\n",
    "\n",
    "for index, model in enumerate(look_for):\n",
    "        start = time.time()\n",
    "        print()\n",
    "        print('+++++++ Start New Model ++++++++++++++++++++++')\n",
    "        print('Estimator is {}'.format(model_dict[index]))\n",
    "        model.fit(X_train, y_train)\n",
    "        print('---------------------------------------------')\n",
    "        print('best params {}'.format(model.best_params_))\n",
    "        print('best score is {}'.format(model.best_score_))\n",
    "        auc = roc_auc_score(y_test, model.predict_proba(X_test)[:,1])\n",
    "        print('---------------------------------------------')\n",
    "        print('ROC_AUC is {} and accuracy rate is {}'.format(auc, model.score(X_test, y_test)))\n",
    "        end = time.time()\n",
    "        print('It lasted for {} sec'.format(round(end - start, 3)))\n",
    "        print('++++++++ End Model +++++++++++++++++++++++++++')\n",
    "        print()\n",
    "        print()\n",
    "        models.append(model.best_estimator_)\n",
    "        result_acc[index] = model.best_score_\n",
    "        result_auc[index] = auc"
   ]
  },
  {
   "cell_type": "markdown",
   "metadata": {},
   "source": [
    "### 5. The choice of the most effective model, build learninig curve rate\n"
   ]
  },
  {
   "cell_type": "code",
   "execution_count": null,
   "metadata": {},
   "outputs": [],
   "source": [
    "plt.plot(model_dict.values(), result_acc.values(), c='r')\n",
    "plt.plot(model_dict.values(), result_auc.values(), c='b')\n",
    "plt.xlabel('Models')\n",
    "plt.xticks(rotation=45)\n",
    "plt.ylabel('Accouracy and ROC_AUC')\n",
    "plt.title('Result of Grid Search')\n",
    "plt.legend(['Accuracy', 'ROC_AUC'])\n",
    "plt.show();"
   ]
  },
  {
   "cell_type": "code",
   "execution_count": null,
   "metadata": {},
   "outputs": [],
   "source": [
    "\"\"\" Model performance during Grid Search \"\"\"\n",
    "pd.DataFrame(list(zip(model_dict.values(), result_acc.values(), result_auc.values())), \\\n",
    "                  columns=['Model', 'Accuracy_rate','Roc_auc_rate'])"
   ]
  },
  {
   "cell_type": "markdown",
   "metadata": {},
   "source": [
    "#### Best model \n",
    "Our best performed model with ROC_AUC (0.9269) metric is ** Random forest **. \n",
    "This classifier could achive accuracy rate 0.903 that is average accuracy among all classifiers (0.904)."
   ]
  },
  {
   "cell_type": "markdown",
   "metadata": {},
   "source": [
    "We can build graph to check RandomForestClassifier performatce with OOB score to be sure that critical hyperparametr was correctly selected during Grid Search. \n",
    "As you may see it almost the same - 80 estimators with best ROC_AUC score and 90 estimators with maximun of OOB score\n"
   ]
  },
  {
   "cell_type": "code",
   "execution_count": null,
   "metadata": {},
   "outputs": [],
   "source": [
    "def graph(model, X_train, y_train):\n",
    "    obb = []\n",
    "    est = list(range(5, 200, 5))\n",
    "    for i in tqdm(est):\n",
    "        random_forest = model(n_estimators=i, criterion='entropy', random_state=11, oob_score=True, n_jobs=-1, \\\n",
    "                           max_depth=25, min_samples_leaf=80, min_samples_split=3,)\n",
    "        random_forest.fit(X_train, y_train)\n",
    "        obb.append(random_forest.oob_score_)\n",
    "    display('max oob {} and number of estimators {}'.format(max(obb), est[np.argmax(obb)]))\n",
    "    plt.plot(est, obb)\n",
    "    plt.title('model')\n",
    "    plt.xlabel('number of estimators')\n",
    "    plt.ylabel('oob score')\n",
    "    plt.show();\n",
    "    \n",
    "graph(RandomForestClassifier, X_train, y_train)"
   ]
  },
  {
   "cell_type": "markdown",
   "metadata": {},
   "source": [
    "Let see the ROC_AUC graph"
   ]
  },
  {
   "cell_type": "code",
   "execution_count": null,
   "metadata": {},
   "outputs": [],
   "source": [
    "''' Build graph for ROC_AUC '''\n",
    "\n",
    "fpr, tpr, threshold = roc_curve(y_test, models[1].predict_proba(X_test)[:,1])\n",
    "                                        \n",
    "trace0 = go.Scatter(\n",
    "    x=fpr,\n",
    "    y=tpr,\n",
    "    text=threshold,\n",
    "    fill='tozeroy',\n",
    "    name='ROC Curve')\n",
    "\n",
    "trace1 = go.Scatter(\n",
    "    x=[0,1],\n",
    "    y=[0,1],\n",
    "    line={'color': 'red', 'width': 1, 'dash': 'dash'},\n",
    "    name='Baseline')\n",
    "\n",
    "data = [trace0, trace1]\n",
    "\n",
    "layout = go.Layout(\n",
    "    title='ROC Curve',\n",
    "    xaxis={'title': 'False Positive Rate'},\n",
    "    yaxis={'title': 'True Positive Rate'})\n",
    "\n",
    "fig = go.Figure(data, layout)\n",
    "fig.show();"
   ]
  },
  {
   "cell_type": "markdown",
   "metadata": {},
   "source": [
    "Curve is well distributed with tendency to False Positive Rate.  The roc auc values of the best model of 0.9269 is quite high level to make later assumptions about the data."
   ]
  },
  {
   "cell_type": "markdown",
   "metadata": {},
   "source": [
    "#### We can build feature importance of RandomForestClassifier with best ROC_AUC score"
   ]
  },
  {
   "cell_type": "code",
   "execution_count": null,
   "metadata": {},
   "outputs": [],
   "source": [
    "''' Build bar plot of feature importance of the best model '''\n",
    "\n",
    "def build_feature_importance(model, X_train, y_train):\n",
    "    \n",
    "    models = RandomForestClassifier(criterion='entropy', random_state=11, oob_score=True, n_jobs=-1, \\\n",
    "                           max_depth=25, min_samples_leaf=80, min_samples_split=3, n_estimators=70)\n",
    "    models.fit(X_train, y_train)\n",
    "    data = pd.DataFrame(models.feature_importances_, X_train.columns, columns=[\"feature\"])\n",
    "    data = data.sort_values(by='feature', ascending=False).reset_index()\n",
    "    plt.figure(figsize=[6,6])\n",
    "    sns.barplot(x='index', y='feature', data=data[:10], palette=\"Blues_d\")\n",
    "    plt.title('Feature inportance of Random Forest after Grid Search')\n",
    "    plt.xticks(rotation=45)\n",
    "    plt.show();\n",
    "    \n",
    "build_feature_importance(RandomForestClassifier, X_train, y_train)"
   ]
  },
  {
   "cell_type": "markdown",
   "metadata": {},
   "source": [
    "### 6. Conclusions and recomendations"
   ]
  },
  {
   "cell_type": "markdown",
   "metadata": {},
   "source": [
    "#### What general recommendations can be offered for a successful marketing company in the future?"
   ]
  },
  {
   "cell_type": "markdown",
   "metadata": {},
   "source": [
    "This analysis can be carried out at the level of individual bank branches as does not require much resources and special knowledge (the model itself can be launched automatically with a certain periodicity). \n",
    "\n",
    "Potentially similar micro-targeting will increase the overall effectiveness of the entire marketing company."
   ]
  },
  {
   "cell_type": "markdown",
   "metadata": {},
   "source": [
    "1. Take into account the time of the company (May is the most effective)\n",
    "2. Increase the time of contact with customers (perhaps in a different way formulating the goal of the company). It is possible to use other means of communication.\n",
    "3. Focus on specific categories. The model shows that students and senior citizens respond better to proposal.\n",
    "4. It is imperative to form target groups based on socio-economic categories. Age, income level (not always high), profession can accurately determine the marketing profile of a potential client.\n",
    "\n",
    "Given these factors, it is recommended to **concentrate on those consumer groups** that are potentially more promising.\n",
    "\n",
    "The concentration of the bank’s efforts will effectively distribute the company’s resources to the main factor - the bank’s contact time with the client - it affects most of all on conversion.\n",
    "\n",
    "The continuation of such a study may be the **formation of a clear customer profile** - by age, gender, income and other factors, as well as the adaptation of the product itself (deposit) for a specific category of consumer.\n"
   ]
  },
  {
   "cell_type": "markdown",
   "metadata": {},
   "source": [
    "Thank you for your time! \n",
    "\n",
    "Feel free to conctact https://www.linkedin.com/in/volodymyrgavrish/"
   ]
  },
  {
   "cell_type": "code",
   "execution_count": null,
   "metadata": {},
   "outputs": [],
   "source": []
  }
 ],
 "metadata": {
  "kernelspec": {
   "display_name": "Python 3",
   "language": "python",
   "name": "python3"
  },
  "language_info": {
   "codemirror_mode": {
    "name": "ipython",
    "version": 3
   },
   "file_extension": ".py",
   "mimetype": "text/x-python",
   "name": "python",
   "nbconvert_exporter": "python",
   "pygments_lexer": "ipython3",
   "version": "3.7.6"
  }
 },
 "nbformat": 4,
 "nbformat_minor": 4
}
